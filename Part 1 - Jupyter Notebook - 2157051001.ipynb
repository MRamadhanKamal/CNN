{
 "cells": [
  {
   "cell_type": "markdown",
   "id": "b2c568df",
   "metadata": {},
   "source": [
    "# Coba jupyter"
   ]
  },
  {
   "cell_type": "code",
   "execution_count": 1,
   "id": "d67428d4",
   "metadata": {},
   "outputs": [
    {
     "data": {
      "text/plain": [
       "2"
      ]
     },
     "execution_count": 1,
     "metadata": {},
     "output_type": "execute_result"
    }
   ],
   "source": [
    "1+1"
   ]
  },
  {
   "cell_type": "markdown",
   "id": "5e3eb37d",
   "metadata": {},
   "source": [
    "## Ini adalah heading 2"
   ]
  },
  {
   "cell_type": "code",
   "execution_count": 2,
   "id": "32ad8890",
   "metadata": {},
   "outputs": [
    {
     "data": {
      "text/plain": [
       "15"
      ]
     },
     "execution_count": 2,
     "metadata": {},
     "output_type": "execute_result"
    }
   ],
   "source": [
    "3*5"
   ]
  },
  {
   "cell_type": "markdown",
   "id": "1f55a49f",
   "metadata": {},
   "source": [
    "### heading 3"
   ]
  },
  {
   "cell_type": "code",
   "execution_count": 3,
   "id": "50035d2e",
   "metadata": {},
   "outputs": [
    {
     "data": {
      "text/plain": [
       "49"
      ]
     },
     "execution_count": 3,
     "metadata": {},
     "output_type": "execute_result"
    }
   ],
   "source": [
    "7**2"
   ]
  },
  {
   "cell_type": "markdown",
   "id": "f4c6bf43",
   "metadata": {},
   "source": [
    "### Ini heading baru"
   ]
  },
  {
   "cell_type": "code",
   "execution_count": 4,
   "id": "baf0f334",
   "metadata": {},
   "outputs": [
    {
     "data": {
      "text/plain": [
       "2.5"
      ]
     },
     "execution_count": 4,
     "metadata": {},
     "output_type": "execute_result"
    }
   ],
   "source": [
    "5/2"
   ]
  }
 ],
 "metadata": {
  "kernelspec": {
   "display_name": "Python 3 (ipykernel)",
   "language": "python",
   "name": "python3"
  },
  "language_info": {
   "codemirror_mode": {
    "name": "ipython",
    "version": 3
   },
   "file_extension": ".py",
   "mimetype": "text/x-python",
   "name": "python",
   "nbconvert_exporter": "python",
   "pygments_lexer": "ipython3",
   "version": "3.9.16"
  }
 },
 "nbformat": 4,
 "nbformat_minor": 5
}
