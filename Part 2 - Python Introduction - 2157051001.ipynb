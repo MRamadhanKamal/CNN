{
 "cells": [
  {
   "cell_type": "markdown",
   "id": "8b7a303a",
   "metadata": {},
   "source": [
    "# Print"
   ]
  },
  {
   "cell_type": "code",
   "execution_count": 295,
   "id": "68a3ec83",
   "metadata": {},
   "outputs": [],
   "source": [
    "print(\"Halo nama saya Kamal\")"
   ]
  },
  {
   "cell_type": "markdown",
   "id": "5743f1fa",
   "metadata": {},
   "source": [
    "# Variable"
   ]
  },
  {
   "cell_type": "code",
   "execution_count": 296,
   "id": "1ce0a57c",
   "metadata": {},
   "outputs": [],
   "source": [
    "a = 2"
   ]
  },
  {
   "cell_type": "code",
   "execution_count": 297,
   "id": "2d9efd2b",
   "metadata": {},
   "outputs": [],
   "source": [
    "a"
   ]
  },
  {
   "cell_type": "code",
   "execution_count": 298,
   "id": "2c371e12",
   "metadata": {},
   "outputs": [],
   "source": [
    "a, b = 1, 3"
   ]
  },
  {
   "cell_type": "code",
   "execution_count": 299,
   "id": "a178bfd8",
   "metadata": {},
   "outputs": [],
   "source": [
    "a, b"
   ]
  },
  {
   "cell_type": "markdown",
   "id": "6e969861",
   "metadata": {},
   "source": [
    "# List\n"
   ]
  },
  {
   "cell_type": "code",
   "execution_count": 300,
   "id": "946ce019",
   "metadata": {},
   "outputs": [],
   "source": [
    "a = [1,2,3, 'empat','lima']"
   ]
  },
  {
   "cell_type": "code",
   "execution_count": 301,
   "id": "4a852dc0",
   "metadata": {},
   "outputs": [],
   "source": [
    "a"
   ]
  },
  {
   "cell_type": "code",
   "execution_count": 302,
   "id": "fa01a053",
   "metadata": {},
   "outputs": [],
   "source": [
    "a[0]"
   ]
  },
  {
   "cell_type": "code",
   "execution_count": 303,
   "id": "86229143",
   "metadata": {},
   "outputs": [],
   "source": [
    "a[-2]"
   ]
  },
  {
   "cell_type": "code",
   "execution_count": 304,
   "id": "31c9d55a",
   "metadata": {},
   "outputs": [],
   "source": [
    "a.append(6)"
   ]
  },
  {
   "cell_type": "code",
   "execution_count": 305,
   "id": "4364150a",
   "metadata": {},
   "outputs": [],
   "source": [
    "a"
   ]
  },
  {
   "cell_type": "code",
   "execution_count": 306,
   "id": "f4cd3502",
   "metadata": {},
   "outputs": [],
   "source": [
    "len(a)"
   ]
  },
  {
   "cell_type": "code",
   "execution_count": 307,
   "id": "a614b2fa",
   "metadata": {},
   "outputs": [],
   "source": [
    "a=[]"
   ]
  },
  {
   "cell_type": "code",
   "execution_count": 308,
   "id": "01379f9c",
   "metadata": {},
   "outputs": [],
   "source": [
    "len(a)"
   ]
  },
  {
   "cell_type": "markdown",
   "id": "8c3ccdef",
   "metadata": {},
   "source": [
    "# Slicing"
   ]
  },
  {
   "cell_type": "markdown",
   "id": "e5cb0e5b",
   "metadata": {},
   "source": [
    "`inclusive` : `exclusive` : `step`"
   ]
  },
  {
   "cell_type": "code",
   "execution_count": 309,
   "id": "446eb5e6",
   "metadata": {},
   "outputs": [],
   "source": [
    "a = [0, 1, 2, 3, 4, 5]"
   ]
  },
  {
   "cell_type": "code",
   "execution_count": 310,
   "id": "d5092167",
   "metadata": {},
   "outputs": [],
   "source": [
    "a[0:3]"
   ]
  },
  {
   "cell_type": "code",
   "execution_count": 311,
   "id": "82d74530",
   "metadata": {},
   "outputs": [],
   "source": [
    "a[3:-1]"
   ]
  },
  {
   "cell_type": "code",
   "execution_count": 312,
   "id": "bdbd748e",
   "metadata": {},
   "outputs": [],
   "source": [
    "a[:3]"
   ]
  },
  {
   "cell_type": "code",
   "execution_count": 313,
   "id": "ebcb19e7",
   "metadata": {},
   "outputs": [],
   "source": [
    "a[3:]"
   ]
  },
  {
   "cell_type": "code",
   "execution_count": 314,
   "id": "ef8e7039",
   "metadata": {},
   "outputs": [],
   "source": [
    "a[0:4:2]"
   ]
  },
  {
   "cell_type": "code",
   "execution_count": 315,
   "id": "4f084505",
   "metadata": {},
   "outputs": [],
   "source": [
    "a[::-1]"
   ]
  },
  {
   "cell_type": "markdown",
   "id": "3b91b824",
   "metadata": {},
   "source": [
    "# Join & Split"
   ]
  },
  {
   "cell_type": "code",
   "execution_count": 316,
   "id": "4a1a5d32",
   "metadata": {},
   "outputs": [],
   "source": [
    "a = ['cat', 'dog', 'fish']"
   ]
  },
  {
   "cell_type": "code",
   "execution_count": 317,
   "id": "e908be36",
   "metadata": {},
   "outputs": [],
   "source": [
    "\"- \".join(a)"
   ]
  },
  {
   "cell_type": "code",
   "execution_count": 318,
   "id": "66873ded",
   "metadata": {},
   "outputs": [],
   "source": [
    "a = \"Belajar python untuk bisa\""
   ]
  },
  {
   "cell_type": "code",
   "execution_count": 319,
   "id": "aabdddfe",
   "metadata": {},
   "outputs": [],
   "source": [
    "a.split()"
   ]
  },
  {
   "cell_type": "code",
   "execution_count": 320,
   "id": "277a9117",
   "metadata": {},
   "outputs": [],
   "source": [
    "a = \"ayam,bebek,ikan\""
   ]
  },
  {
   "cell_type": "code",
   "execution_count": 321,
   "id": "8f4f0b7e",
   "metadata": {},
   "outputs": [],
   "source": [
    "a.split(\",\")"
   ]
  },
  {
   "cell_type": "markdown",
   "id": "ab186187",
   "metadata": {},
   "source": [
    "# Dictionary"
   ]
  },
  {
   "cell_type": "markdown",
   "id": "7175c18b",
   "metadata": {},
   "source": [
    "`key` : `value`"
   ]
  },
  {
   "cell_type": "code",
   "execution_count": 322,
   "id": "138f11d3",
   "metadata": {},
   "outputs": [],
   "source": [
    "a = {\n",
    "    \"cat\": \"kucing\", \n",
    "    \"dog\": \"anjing\"\n",
    "}"
   ]
  },
  {
   "cell_type": "code",
   "execution_count": 323,
   "id": "3fc4f694",
   "metadata": {},
   "outputs": [],
   "source": [
    "a[\"cat\"]"
   ]
  },
  {
   "cell_type": "code",
   "execution_count": 324,
   "id": "acc2d58d",
   "metadata": {},
   "outputs": [],
   "source": [
    "a[\"kucing\"] #tidak bisa memanggil melalui value"
   ]
  },
  {
   "cell_type": "code",
   "execution_count": null,
   "id": "961cc784",
   "metadata": {},
   "outputs": [],
   "source": [
    "a[\"bird\"] = \"burung\""
   ]
  },
  {
   "cell_type": "code",
   "execution_count": null,
   "id": "2271ca60",
   "metadata": {},
   "outputs": [],
   "source": [
    "a"
   ]
  },
  {
   "cell_type": "code",
   "execution_count": null,
   "id": "0f08886d",
   "metadata": {},
   "outputs": [],
   "source": [
    "a.keys()"
   ]
  },
  {
   "cell_type": "code",
   "execution_count": null,
   "id": "236d0394",
   "metadata": {},
   "outputs": [],
   "source": [
    "a.values()"
   ]
  },
  {
   "cell_type": "code",
   "execution_count": null,
   "id": "27217204",
   "metadata": {},
   "outputs": [],
   "source": [
    "nilai = {\n",
    "    \"andi\": 40,\n",
    "    \"budi\": 60,\n",
    "    \"caca\": 80,\n",
    "}"
   ]
  },
  {
   "cell_type": "code",
   "execution_count": null,
   "id": "86763f91",
   "metadata": {},
   "outputs": [],
   "source": [
    "nilai[\"andi\"]"
   ]
  },
  {
   "cell_type": "code",
   "execution_count": null,
   "id": "c06ed5ac",
   "metadata": {},
   "outputs": [],
   "source": [
    "nilai[\"andi\"] = 100"
   ]
  },
  {
   "cell_type": "code",
   "execution_count": null,
   "id": "807b14ce",
   "metadata": {},
   "outputs": [],
   "source": [
    "nilai"
   ]
  },
  {
   "cell_type": "markdown",
   "id": "2c0381c7",
   "metadata": {},
   "source": [
    "# Fungsi"
   ]
  },
  {
   "cell_type": "code",
   "execution_count": null,
   "id": "4c7a6885",
   "metadata": {},
   "outputs": [],
   "source": [
    "def jumlah(a, b):\n",
    "    return a+b"
   ]
  },
  {
   "cell_type": "code",
   "execution_count": null,
   "id": "7bd4aa64",
   "metadata": {},
   "outputs": [],
   "source": [
    "jumlah(3, 4)"
   ]
  },
  {
   "cell_type": "code",
   "execution_count": null,
   "id": "1d3d868f",
   "metadata": {},
   "outputs": [],
   "source": [
    "def perkalian(a, b):\n",
    "    return a*b"
   ]
  },
  {
   "cell_type": "code",
   "execution_count": null,
   "id": "981a3132",
   "metadata": {},
   "outputs": [],
   "source": [
    "perkalian(5, 5)"
   ]
  },
  {
   "cell_type": "markdown",
   "id": "0fa951b0",
   "metadata": {},
   "source": [
    "# Conditional"
   ]
  },
  {
   "cell_type": "code",
   "execution_count": null,
   "id": "f584a2d1",
   "metadata": {},
   "outputs": [],
   "source": [
    "score = 90"
   ]
  },
  {
   "cell_type": "code",
   "execution_count": null,
   "id": "cdb31dd1",
   "metadata": {},
   "outputs": [],
   "source": [
    "if score < 50:\n",
    "    print(\"C\")\n",
    "elif score <= 80:\n",
    "    print(\"B\")\n",
    "elif score < 100:\n",
    "    print(\"A\")\n",
    "elif score == 100:\n",
    "    print(\"Perfect\")\n",
    "else:\n",
    "    print(\"Error\")"
   ]
  },
  {
   "cell_type": "code",
   "execution_count": null,
   "id": "537788fe",
   "metadata": {},
   "outputs": [],
   "source": [
    "def convert_to_index(score):\n",
    "    if score < 50:\n",
    "        return \"C\"\n",
    "    elif score <= 80:\n",
    "        return \"B\"\n",
    "    elif score < 100:\n",
    "        return \"A\"\n",
    "    elif score == 100:\n",
    "        return \"Perfect\"\n",
    "    else:\n",
    "        return \"Error\""
   ]
  },
  {
   "cell_type": "code",
   "execution_count": null,
   "id": "840c7cd6",
   "metadata": {},
   "outputs": [],
   "source": [
    "convert_to_index(score)"
   ]
  },
  {
   "cell_type": "code",
   "execution_count": null,
   "id": "81627fa5",
   "metadata": {},
   "outputs": [],
   "source": [
    "convert_to_index(101)"
   ]
  },
  {
   "cell_type": "markdown",
   "id": "397bb22b",
   "metadata": {},
   "source": [
    "# Iterasi (Menelusuri)"
   ]
  },
  {
   "cell_type": "code",
   "execution_count": null,
   "id": "bff38c2f",
   "metadata": {},
   "outputs": [],
   "source": [
    "numbers = [1,2,3,4,5,6]"
   ]
  },
  {
   "cell_type": "code",
   "execution_count": null,
   "id": "25060b81",
   "metadata": {},
   "outputs": [],
   "source": [
    "for i in numbers:\n",
    "    print(i)"
   ]
  },
  {
   "cell_type": "code",
   "execution_count": null,
   "id": "e00dd964",
   "metadata": {
    "scrolled": true
   },
   "outputs": [],
   "source": [
    "for score in [10, 50, 60, 90, 100, 98]:\n",
    "    score+=2\n",
    "    print(score)\n",
    "    print(convert_to_index(score))"
   ]
  },
  {
   "cell_type": "code",
   "execution_count": null,
   "id": "351a3bce",
   "metadata": {},
   "outputs": [],
   "source": [
    "animals= [\"bIrD\", \"DOg\", \"cAt\"]"
   ]
  },
  {
   "cell_type": "code",
   "execution_count": null,
   "id": "ec59fdcb",
   "metadata": {},
   "outputs": [],
   "source": [
    "for animal in animals:\n",
    "    print(animal.upper())\n",
    "    print(animal.title())\n",
    "    print(animal.lower())"
   ]
  },
  {
   "cell_type": "code",
   "execution_count": null,
   "id": "b02dc8aa",
   "metadata": {},
   "outputs": [],
   "source": [
    "for i in range(2, 7, 2):\n",
    "    print(i)"
   ]
  },
  {
   "cell_type": "code",
   "execution_count": null,
   "id": "0f183c85",
   "metadata": {},
   "outputs": [],
   "source": [
    "a"
   ]
  },
  {
   "cell_type": "code",
   "execution_count": null,
   "id": "5fc49830",
   "metadata": {},
   "outputs": [],
   "source": [
    "a.keys()"
   ]
  },
  {
   "cell_type": "code",
   "execution_count": null,
   "id": "a4886fbc",
   "metadata": {},
   "outputs": [],
   "source": [
    "for key in a.keys():\n",
    "    print(\"bahasa indonesia\",key,\"adalah\",a[key])"
   ]
  },
  {
   "cell_type": "markdown",
   "id": "bf37f070",
   "metadata": {},
   "source": [
    "# Python Comprehension"
   ]
  },
  {
   "cell_type": "code",
   "execution_count": null,
   "id": "528fe692",
   "metadata": {},
   "outputs": [],
   "source": [
    "numbers"
   ]
  },
  {
   "cell_type": "code",
   "execution_count": null,
   "id": "2840e2b8",
   "metadata": {},
   "outputs": [],
   "source": [
    "numbers = {i: i**2 for i in range(5)}\n",
    "numbers"
   ]
  },
  {
   "cell_type": "code",
   "execution_count": null,
   "id": "0c6b940c",
   "metadata": {},
   "outputs": [],
   "source": [
    "numbers = {i**2 for i in range(5)}\n",
    "numbers"
   ]
  },
  {
   "cell_type": "code",
   "execution_count": null,
   "id": "23ee8af1",
   "metadata": {},
   "outputs": [],
   "source": [
    "nilai = [convert_to_index(score) for score in[10, 50, 60, 90, 100, 98]]"
   ]
  },
  {
   "cell_type": "code",
   "execution_count": null,
   "id": "96615bc6",
   "metadata": {},
   "outputs": [],
   "source": [
    "nilai"
   ]
  },
  {
   "cell_type": "code",
   "execution_count": null,
   "id": "ba400f24",
   "metadata": {},
   "outputs": [],
   "source": []
  }
 ],
 "metadata": {
  "kernelspec": {
   "display_name": "Python 3 (ipykernel)",
   "language": "python",
   "name": "python3"
  },
  "language_info": {
   "codemirror_mode": {
    "name": "ipython",
    "version": 3
   },
   "file_extension": ".py",
   "mimetype": "text/x-python",
   "name": "python",
   "nbconvert_exporter": "python",
   "pygments_lexer": "ipython3",
   "version": "3.9.16"
  }
 },
 "nbformat": 4,
 "nbformat_minor": 5
}
